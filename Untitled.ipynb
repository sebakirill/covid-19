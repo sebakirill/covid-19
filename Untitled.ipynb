{
 "cells": [
  {
   "cell_type": "code",
   "execution_count": 19,
   "id": "e5901c50-44ac-44b5-a338-d55e2493aad1",
   "metadata": {},
   "outputs": [],
   "source": [
    "# Add the librarys\n",
    "import requests\n",
    "import json\n",
    "import pandas as pd\n",
    "import numpy as np\n",
    "import seaborn as sns\n",
    "\n",
    "import matplotlib.pyplot as plt\n",
    "import matplotlib\n",
    "plt.style.use('ggplot')\n",
    "%matplotlib inline\n",
    "matplotlib.rcParams['figure.figsize'] = (16,8)"
   ]
  },
  {
   "cell_type": "code",
   "execution_count": 20,
   "id": "962a9a00-18e9-4781-be73-94f23614f2de",
   "metadata": {},
   "outputs": [],
   "source": [
    "# Call the API\n",
    "status_conf = {'status': 'confirmed'}\n",
    "status_deaths = {'status': 'deaths'}\n",
    "r = requests.get('https://covid-api.mmediagroup.fr/v1/cases')\n",
    "c = requests.get('https://covid-api.mmediagroup.fr/v1/history',status_conf)\n",
    "d = requests.get('https://covid-api.mmediagroup.fr/v1/history',status_deaths)"
   ]
  },
  {
   "cell_type": "code",
   "execution_count": 21,
   "id": "6ef60256-63ea-462b-81b2-b0d8f184188c",
   "metadata": {},
   "outputs": [],
   "source": [
    "# JSON to Dict\n",
    "response = json.loads(r.text)\n",
    "r_confirmed = json.loads(c.text)\n",
    "r_deaths = json.loads(d.text)"
   ]
  },
  {
   "cell_type": "code",
   "execution_count": 22,
   "id": "22311dab-3bd5-42c6-8dd9-dc49537e25a1",
   "metadata": {},
   "outputs": [],
   "source": [
    "#Delet the key 'All'\n",
    "dic, c_dic, d_dic = dict(), dict(), dict()\n",
    "for item in response.keys():    \n",
    "    dic[item] = {x: y  for (x, y)  in response[item]['All'].items()}\n",
    "    c_dic[item] = {x : y for (x, y) in r_confirmed[item]['All']['dates'].items()}\n",
    "    d_dic[item] = {x : y for (x, y) in r_confirmed[item]['All']['dates'].items()}"
   ]
  },
  {
   "cell_type": "code",
   "execution_count": 23,
   "id": "aad2dafe-a141-4f0f-9bb7-16e9d0a299a4",
   "metadata": {},
   "outputs": [],
   "source": [
    "df = pd.DataFrame.from_dict(dic, orient='index' )\n",
    "c_df = pd.DataFrame.from_dict(c_dic)\n",
    "d_df = pd.DataFrame.from_dict(d_dic)"
   ]
  },
  {
   "cell_type": "code",
   "execution_count": 24,
   "id": "ce80f977-fbf8-4296-b7f7-299c43426631",
   "metadata": {},
   "outputs": [
    {
     "name": "stdout",
     "output_type": "stream",
     "text": [
      "confirmed - 0%\n",
      "recovered - 0%\n",
      "deaths - 0%\n",
      "country - 8%\n",
      "population - 8%\n",
      "sq_km_area - 9%\n",
      "life_expectancy - 10%\n",
      "elevation_in_meters - 26%\n",
      "continent - 9%\n",
      "abbreviation - 9%\n",
      "location - 9%\n",
      "iso - 11%\n",
      "capital_city - 9%\n",
      "lat - 11%\n",
      "long - 11%\n",
      "updated - 11%\n"
     ]
    }
   ],
   "source": [
    "for column in df.columns:\n",
    "    pct_missing = np.mean(df[column].isnull())\n",
    "    print(f'{column} - {round(pct_missing*100)}%')"
   ]
  },
  {
   "cell_type": "code",
   "execution_count": 25,
   "id": "f72def16-b1f9-4282-831e-d8a32ab673e4",
   "metadata": {},
   "outputs": [
    {
     "data": {
      "text/plain": [
       "confirmed                int64\n",
       "recovered                int64\n",
       "deaths                   int64\n",
       "country                 object\n",
       "population             float64\n",
       "sq_km_area             float64\n",
       "life_expectancy         object\n",
       "elevation_in_meters     object\n",
       "continent               object\n",
       "abbreviation            object\n",
       "location                object\n",
       "iso                    float64\n",
       "capital_city            object\n",
       "lat                     object\n",
       "long                    object\n",
       "updated                 object\n",
       "dtype: object"
      ]
     },
     "execution_count": 25,
     "metadata": {},
     "output_type": "execute_result"
    }
   ],
   "source": [
    "df.dtypes"
   ]
  },
  {
   "cell_type": "code",
   "execution_count": null,
   "id": "26e504c3-ca16-48af-823a-e36d7efc4005",
   "metadata": {},
   "outputs": [],
   "source": []
  },
  {
   "cell_type": "code",
   "execution_count": null,
   "id": "9b3c175b-848c-4975-848d-08e70fba458b",
   "metadata": {},
   "outputs": [],
   "source": []
  }
 ],
 "metadata": {
  "kernelspec": {
   "display_name": "Python 3",
   "language": "python",
   "name": "python3"
  },
  "language_info": {
   "codemirror_mode": {
    "name": "ipython",
    "version": 3
   },
   "file_extension": ".py",
   "mimetype": "text/x-python",
   "name": "python",
   "nbconvert_exporter": "python",
   "pygments_lexer": "ipython3",
   "version": "3.9.5"
  }
 },
 "nbformat": 4,
 "nbformat_minor": 5
}
