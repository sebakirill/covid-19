{
 "cells": [
  {
   "cell_type": "code",
   "execution_count": 1,
   "id": "e5901c50-44ac-44b5-a338-d55e2493aad1",
   "metadata": {},
   "outputs": [],
   "source": [
    "# Add the librarys\n",
    "import requests\n",
    "import json\n",
    "import pandas as pd\n",
    "import numpy as np\n",
    "import seaborn as sns\n",
    "\n",
    "import matplotlib.pyplot as plt\n",
    "import matplotlib\n",
    "plt.style.use('ggplot')\n",
    "%matplotlib inline\n",
    "matplotlib.rcParams['figure.figsize'] = (16,8)"
   ]
  },
  {
   "cell_type": "code",
   "execution_count": 2,
   "id": "962a9a00-18e9-4781-be73-94f23614f2de",
   "metadata": {},
   "outputs": [],
   "source": [
    "# Call the API\n",
    "status_conf = {'status': 'confirmed'}\n",
    "status_deaths = {'status': 'deaths'}\n",
    "r = requests.get('https://covid-api.mmediagroup.fr/v1/cases')\n",
    "c = requests.get('https://covid-api.mmediagroup.fr/v1/history',status_conf)\n",
    "d = requests.get('https://covid-api.mmediagroup.fr/v1/history',status_deaths)\n",
    "v = requests.get('https://covid-api.mmediagroup.fr/v1/vaccines')"
   ]
  },
  {
   "cell_type": "code",
   "execution_count": 3,
   "id": "6ef60256-63ea-462b-81b2-b0d8f184188c",
   "metadata": {},
   "outputs": [],
   "source": [
    "# JSON to Dict\n",
    "response = json.loads(r.text)\n",
    "r_confirmed = json.loads(c.text)\n",
    "r_deaths = json.loads(d.text)\n",
    "r_vaccines = json.loads(v.text)"
   ]
  },
  {
   "cell_type": "code",
   "execution_count": 4,
   "id": "1503c766-2d5c-48ae-a823-f3abeed5450a",
   "metadata": {},
   "outputs": [
    {
     "data": {
      "text/plain": [
       "{'All': {'administered': 3958025608,\n",
       "  'people_vaccinated': 1082450511,\n",
       "  'people_partially_vaccinated': 2124419056,\n",
       "  'updated': '2021/07/28 00:00:00+00'}}"
      ]
     },
     "execution_count": 4,
     "metadata": {},
     "output_type": "execute_result"
    }
   ],
   "source": [
    "#Drop US (Aggregate) key \n",
    "r_vaccines.pop('US (Aggregate)')\n",
    "r_vaccines['Global'] = r_vaccines['World']\n",
    "r_vaccines.pop('World')"
   ]
  },
  {
   "cell_type": "code",
   "execution_count": 5,
   "id": "22311dab-3bd5-42c6-8dd9-dc49537e25a1",
   "metadata": {},
   "outputs": [],
   "source": [
    "#Modify the dict\n",
    "dic, c_dic, d_dic = dict(), dict(), dict()\n",
    "for item in response.keys():    \n",
    "    dic[item] = {x: y  for (x, y)  in \n",
    "                 response[item]['All'].items()}\n",
    "    c_dic[item] = {x : y for (x, y) in \n",
    "                   r_confirmed[item]['All']['dates'].items()}\n",
    "    d_dic[item] = {x : y for (x, y) in \n",
    "                   r_confirmed[item]['All']['dates'].items()}\n"
   ]
  },
  {
   "cell_type": "code",
   "execution_count": 6,
   "id": "95de540f-885e-43fa-a8ca-86fadfe5b739",
   "metadata": {},
   "outputs": [],
   "source": [
    "# Add vaccines in dic\n",
    "for item in r_vaccines.keys():\n",
    "    dic[item].update({x : y for (x, y) in r_vaccines[item]['All'].items() \n",
    "                      if (x == 'administered' or x == 'people_vaccinated' \n",
    "                          or x == 'people_partially_vaccinated')})"
   ]
  },
  {
   "cell_type": "code",
   "execution_count": 87,
   "id": "bfb34eba-f072-4d67-8f8c-4927b863b938",
   "metadata": {},
   "outputs": [],
   "source": [
    "# Generate DataF\n",
    "df = pd.DataFrame.from_dict(dic, orient = 'index')\n",
    "c_df = pd.DataFrame(c_dic)\n",
    "d_df = pd.DataFrame(d_dic)"
   ]
  },
  {
   "cell_type": "code",
   "execution_count": 88,
   "id": "cdac4002-fd95-4b8c-8a05-54f903ed4c39",
   "metadata": {},
   "outputs": [],
   "source": [
    "c_df.reset_index(inplace = True)\n",
    "c_df.rename(columns = {'index' : 'dates'}, inplace = True)\n",
    "c_df['dates'] = pd.to_datetime(c_df['dates'])\n",
    "d_df.reset_index(inplace = True)\n",
    "d_df.rename(columns = {'index' : 'dates'}, inplace = True)\n",
    "d_df['dates'] = pd.to_datetime(c_df['dates'])"
   ]
  },
  {
   "cell_type": "code",
   "execution_count": 8,
   "id": "e004121b-7217-4f89-8178-e58b75ed3b07",
   "metadata": {},
   "outputs": [
    {
     "data": {
      "text/plain": [
       "confirmed                        int64\n",
       "recovered                        int64\n",
       "deaths                           int64\n",
       "country                         object\n",
       "population                     float64\n",
       "sq_km_area                     float64\n",
       "life_expectancy                 object\n",
       "elevation_in_meters             object\n",
       "continent                       object\n",
       "abbreviation                    object\n",
       "location                        object\n",
       "iso                            float64\n",
       "capital_city                    object\n",
       "lat                             object\n",
       "long                            object\n",
       "updated                         object\n",
       "administered                   float64\n",
       "people_vaccinated              float64\n",
       "people_partially_vaccinated    float64\n",
       "dtype: object"
      ]
     },
     "execution_count": 8,
     "metadata": {},
     "output_type": "execute_result"
    }
   ],
   "source": [
    "df.dtypes"
   ]
  },
  {
   "cell_type": "code",
   "execution_count": 9,
   "id": "bc993b37-5608-4034-84db-d272c974a581",
   "metadata": {},
   "outputs": [],
   "source": [
    "#Modify the datatype\n",
    "df['life_expectancy'] = df['life_expectancy'].astype('float64')"
   ]
  },
  {
   "cell_type": "code",
   "execution_count": 26,
   "id": "ed855459-2b81-4cc8-a261-9aa4e03ba413",
   "metadata": {},
   "outputs": [],
   "source": [
    "# Generete indicators\n",
    "df['population_density'] = df['population'] / df['sq_km_area']\n",
    "df['confirmed/population'] = (df['confirmed'] / df['population'])*100\n",
    "df['deaths/population'] = (df['deaths'] / df['population'])*100\n",
    "df['deaths/confirmed'] = (df['deaths'] / df['confirmed'])*100"
   ]
  },
  {
   "cell_type": "code",
   "execution_count": 11,
   "id": "ce80f977-fbf8-4296-b7f7-299c43426631",
   "metadata": {},
   "outputs": [
    {
     "name": "stdout",
     "output_type": "stream",
     "text": [
      "confirmed - 0%\n",
      "recovered - 0%\n",
      "deaths - 0%\n",
      "country - 8%\n",
      "population - 8%\n",
      "sq_km_area - 9%\n",
      "life_expectancy - 10%\n",
      "elevation_in_meters - 26%\n",
      "continent - 9%\n",
      "abbreviation - 9%\n",
      "location - 9%\n",
      "iso - 11%\n",
      "capital_city - 9%\n",
      "lat - 11%\n",
      "long - 11%\n",
      "updated - 11%\n",
      "administered - 16%\n",
      "people_vaccinated - 16%\n",
      "people_partially_vaccinated - 16%\n",
      "population_density - 9%\n",
      "confirmed/population - 8%\n",
      "deaths/population - 8%\n"
     ]
    }
   ],
   "source": [
    "#Missing data\n",
    "for column in df.columns:\n",
    "    pct_missing = np.mean(df[column].isnull())\n",
    "    print(f'{column} - {round(pct_missing*100)}%')"
   ]
  },
  {
   "cell_type": "code",
   "execution_count": 12,
   "id": "c7a98d55-c0d3-4a93-b8ae-24a8a7669009",
   "metadata": {},
   "outputs": [
    {
     "data": {
      "text/plain": [
       "0.0"
      ]
     },
     "execution_count": 12,
     "metadata": {},
     "output_type": "execute_result"
    }
   ],
   "source": [
    "df.loc[df.index != 'Global', 'people_vaccinated'].sum() - df.loc['Global']['people_vaccinated']"
   ]
  },
  {
   "cell_type": "code",
   "execution_count": 13,
   "id": "26e504c3-ca16-48af-823a-e36d7efc4005",
   "metadata": {},
   "outputs": [
    {
     "data": {
      "text/plain": [
       "0.8367346938775511"
      ]
     },
     "execution_count": 13,
     "metadata": {},
     "output_type": "execute_result"
    }
   ],
   "source": [
    "len(r_vaccines.keys())/len(response.keys())"
   ]
  },
  {
   "cell_type": "code",
   "execution_count": null,
   "id": "200d26e5-f1de-49cf-a08b-377af3dcbc2b",
   "metadata": {},
   "outputs": [],
   "source": [
    "#Export the data\n",
    "df.to_csv('../../../../mnt/c/Users/sebas/Documents/covid-19/data.csv', sep=',')\n",
    "c_df.to_csv('../../../../mnt/c/Users/sebas/Documents/covid-19/confirmed.csv', sep=',')\n",
    "d_df.to_csv('../../../../mnt/c/Users/sebas/Documents/covid-19/deaths.csv', sep=',')"
   ]
  }
 ],
 "metadata": {
  "kernelspec": {
   "display_name": "Python 3",
   "language": "python",
   "name": "python3"
  },
  "language_info": {
   "codemirror_mode": {
    "name": "ipython",
    "version": 3
   },
   "file_extension": ".py",
   "mimetype": "text/x-python",
   "name": "python",
   "nbconvert_exporter": "python",
   "pygments_lexer": "ipython3",
   "version": "3.9.5"
  }
 },
 "nbformat": 4,
 "nbformat_minor": 5
}
