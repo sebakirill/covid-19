{
 "cells": [
  {
   "cell_type": "code",
   "execution_count": 1,
   "id": "e5901c50-44ac-44b5-a338-d55e2493aad1",
   "metadata": {},
   "outputs": [],
   "source": [
    "import requests\n",
    "import json\n",
    "import pandas as pd\n",
    "import numpy as np\n"
   ]
  },
  {
   "cell_type": "code",
   "execution_count": 30,
   "id": "962a9a00-18e9-4781-be73-94f23614f2de",
   "metadata": {},
   "outputs": [],
   "source": [
    "r = requests.get('https://covid-api.mmediagroup.fr/v1/cases')\n",
    "data = pd.read_json(r.text, orient='columns', lines=True)\n"
   ]
  },
  {
   "cell_type": "code",
   "execution_count": 33,
   "id": "9677eba5-0521-483b-8364-bad7a672fe40",
   "metadata": {},
   "outputs": [],
   "source": [
    "data = json.loads(r.text)"
   ]
  },
  {
   "cell_type": "code",
   "execution_count": 41,
   "id": "b23d91c5-a995-43ac-90ef-06ab1e8e0c1e",
   "metadata": {},
   "outputs": [
    {
     "data": {
      "text/plain": [
       "dict_keys(['confirmed', 'recovered', 'deaths', 'country', 'population', 'sq_km_area', 'life_expectancy', 'elevation_in_meters', 'continent', 'abbreviation', 'location', 'iso', 'capital_city', 'lat', 'long', 'updated'])"
      ]
     },
     "execution_count": 41,
     "metadata": {},
     "output_type": "execute_result"
    }
   ],
   "source": [
    "data['Argentina']['All'].keys()"
   ]
  },
  {
   "cell_type": "code",
   "execution_count": null,
   "id": "9a718d17-741f-4d93-b4d5-808fd5f0cd8c",
   "metadata": {},
   "outputs": [],
   "source": []
  }
 ],
 "metadata": {
  "kernelspec": {
   "display_name": "Python 3",
   "language": "python",
   "name": "python3"
  },
  "language_info": {
   "codemirror_mode": {
    "name": "ipython",
    "version": 3
   },
   "file_extension": ".py",
   "mimetype": "text/x-python",
   "name": "python",
   "nbconvert_exporter": "python",
   "pygments_lexer": "ipython3",
   "version": "3.9.5"
  }
 },
 "nbformat": 4,
 "nbformat_minor": 5
}
